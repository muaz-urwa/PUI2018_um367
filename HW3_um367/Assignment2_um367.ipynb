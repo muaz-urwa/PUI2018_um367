{
 "cells": [
  {
   "cell_type": "code",
   "execution_count": 1,
   "metadata": {},
   "outputs": [],
   "source": [
    "# example of gathering, reading, and plotting data\n",
    "# developed by FBB for PUI in 2018\n",
    "# uses NYC data portal NYC OPEN DATA https://data.cityofnewyork.us/"
   ]
  },
  {
   "cell_type": "code",
   "execution_count": 2,
   "metadata": {},
   "outputs": [],
   "source": [
    "from __future__ import print_function #for compatibility beteen python2 and python3\n",
    "\n",
    "# all other needed modules will be imported as they are needed. \n",
    "# I will leave them in the cell where they become relevant BUT  \n",
    "# PEP8 standards require to move them at the top cell, \n",
    "# so you must move your imports in this cell for the homework"
   ]
  },
  {
   "cell_type": "markdown",
   "metadata": {},
   "source": [
    "# Find data on the portal"
   ]
  },
  {
   "cell_type": "markdown",
   "metadata": {},
   "source": [
    " using DHS data on shelter population\n",
    " obtained with the following steps from the website \n",
    " \n",
    " https://opendata.cityofnewyork.us/ -> Data \n",
    " \n",
    " https://opendata.cityofnewyork.us/data/ -> Department of Homeless Services (DHS) (in data by agency)\n",
    " \n",
    " https://data.cityofnewyork.us/browse?Dataset-Information_Agency=Department+of+Homeless+Services+%28DHS%29\n",
    " -> DHS daily report\n",
    " \n",
    " https://data.cityofnewyork.us/Social-Services/DHS-Daily-Report/k46n-sa2m -> View Data \n",
    " \n",
    " https://data.cityofnewyork.us/Social-Services/DHS-Daily-Report/k46n-sa2m/data -> Export\n",
    " \n",
    " this gives me various links. I copy and paste below the CSV link"
   ]
  },
  {
   "cell_type": "markdown",
   "metadata": {},
   "source": [
    "# solution 1: download from the portal \n"
   ]
  },
  {
   "cell_type": "code",
   "execution_count": 3,
   "metadata": {},
   "outputs": [],
   "source": [
    "#!curl https://data.cityofnewyork.us/api/views/k46n-sa2m/rows.csv?accessType=DOWNLOAD > dhsdaily.csv"
   ]
  },
  {
   "cell_type": "code",
   "execution_count": 4,
   "metadata": {},
   "outputs": [
    {
     "name": "stdout",
     "output_type": "stream",
     "text": [
      "PUIdata /nfshome/um367/PUIdata\n"
     ]
    }
   ],
   "source": [
    "# ove the downloaded data to PUI data\n",
    "import os\n",
    "print(\"PUIdata\", os.getenv(\"PUIDATA\"))"
   ]
  },
  {
   "cell_type": "code",
   "execution_count": 5,
   "metadata": {},
   "outputs": [
    {
     "name": "stdout",
     "output_type": "stream",
     "text": [
      "PUIdata /nfshome/fb55/PUIdata\n"
     ]
    }
   ],
   "source": [
    "#create the env variable if missing\n",
    "#os.environ[\"PUIDATA\"] = \"%s/PUIdata\"%os.getenv(\"HOME\")\n",
    "\n",
    "#print(\"PUIdata\", os.getenv(\"PUIDATA\"))"
   ]
  },
  {
   "cell_type": "code",
   "execution_count": 6,
   "metadata": {},
   "outputs": [],
   "source": [
    "# move the data\n",
    "!mv dhsdaily.csv $PUIDATA"
   ]
  },
  {
   "cell_type": "code",
   "execution_count": 2,
   "metadata": {},
   "outputs": [
    {
     "name": "stdout",
     "output_type": "stream",
     "text": [
      "dhsdaily.csv\r\n",
      "FY16_MMR_Spending_and_Budget_Information_by_Units_of_Appropriation.csv\r\n"
     ]
    }
   ],
   "source": [
    "#test if the data is there\n",
    "!ls $PUIDATA"
   ]
  },
  {
   "cell_type": "markdown",
   "metadata": {},
   "source": [
    "## read in the data with pandas"
   ]
  },
  {
   "cell_type": "code",
   "execution_count": 5,
   "metadata": {},
   "outputs": [],
   "source": [
    "#read in the data with pandas\n",
    "import pandas as pd\n",
    "dhs = pd.read_csv(\"%s/FY16_MMR_Spending_and_Budget_Information_by_Units_of_Appropriation.csv\"%os.getenv(\"PUIDATA\"))"
   ]
  },
  {
   "cell_type": "code",
   "execution_count": 50,
   "metadata": {},
   "outputs": [
    {
     "data": {
      "text/html": [
       "<div>\n",
       "<table border=\"1\" class=\"dataframe\">\n",
       "  <thead>\n",
       "    <tr style=\"text-align: right;\">\n",
       "      <th></th>\n",
       "      <th>Agy</th>\n",
       "      <th>Agy_Name</th>\n",
       "      <th>UA</th>\n",
       "      <th>UA_Name</th>\n",
       "      <th>PS_OTPS_Ind</th>\n",
       "      <th>FY_15_Exp</th>\n",
       "      <th>FY_16_Adopted</th>\n",
       "    </tr>\n",
       "  </thead>\n",
       "  <tbody>\n",
       "    <tr>\n",
       "      <th>0</th>\n",
       "      <td>3</td>\n",
       "      <td>BOARD OF ELECTIONS</td>\n",
       "      <td>1</td>\n",
       "      <td>PERSONAL SERVICES</td>\n",
       "      <td>Personal Services</td>\n",
       "      <td>51391433</td>\n",
       "      <td>61723539</td>\n",
       "    </tr>\n",
       "    <tr>\n",
       "      <th>1</th>\n",
       "      <td>3</td>\n",
       "      <td>BOARD OF ELECTIONS</td>\n",
       "      <td>2</td>\n",
       "      <td>OTHER THAN PERSONAL SERVICES</td>\n",
       "      <td>Other Than Personal Services</td>\n",
       "      <td>55363698</td>\n",
       "      <td>78528690</td>\n",
       "    </tr>\n",
       "    <tr>\n",
       "      <th>2</th>\n",
       "      <td>17</td>\n",
       "      <td>DEPARTMENT OF EMERGENCY MANAGEMENT</td>\n",
       "      <td>1</td>\n",
       "      <td>PERSONAL SERVICES</td>\n",
       "      <td>Personal Services</td>\n",
       "      <td>11601381</td>\n",
       "      <td>6246590</td>\n",
       "    </tr>\n",
       "    <tr>\n",
       "      <th>3</th>\n",
       "      <td>17</td>\n",
       "      <td>DEPARTMENT OF EMERGENCY MANAGEMENT</td>\n",
       "      <td>2</td>\n",
       "      <td>OTHER THAN PERSONAL SERVICES</td>\n",
       "      <td>Other Than Personal Services</td>\n",
       "      <td>23436956</td>\n",
       "      <td>9780548</td>\n",
       "    </tr>\n",
       "    <tr>\n",
       "      <th>4</th>\n",
       "      <td>25</td>\n",
       "      <td>LAW DEPARTMENT</td>\n",
       "      <td>1</td>\n",
       "      <td>PERSONAL SERVICES</td>\n",
       "      <td>Personal Services</td>\n",
       "      <td>111055572</td>\n",
       "      <td>125701262</td>\n",
       "    </tr>\n",
       "    <tr>\n",
       "      <th>5</th>\n",
       "      <td>25</td>\n",
       "      <td>LAW DEPARTMENT</td>\n",
       "      <td>2</td>\n",
       "      <td>OTHER THAN PERSONAL SERVICES</td>\n",
       "      <td>Other Than Personal Services</td>\n",
       "      <td>64534069</td>\n",
       "      <td>60879415</td>\n",
       "    </tr>\n",
       "    <tr>\n",
       "      <th>6</th>\n",
       "      <td>30</td>\n",
       "      <td>DEPARTMENT OF CITY PLANNING</td>\n",
       "      <td>1</td>\n",
       "      <td>PERSONAL SERVICES</td>\n",
       "      <td>Personal Services</td>\n",
       "      <td>19223316</td>\n",
       "      <td>22966676</td>\n",
       "    </tr>\n",
       "  </tbody>\n",
       "</table>\n",
       "</div>"
      ],
      "text/plain": [
       "   Agy                                  Agy_Name  UA  \\\n",
       "0    3  BOARD OF ELECTIONS                         1   \n",
       "1    3  BOARD OF ELECTIONS                         2   \n",
       "2   17  DEPARTMENT OF EMERGENCY MANAGEMENT         1   \n",
       "3   17  DEPARTMENT OF EMERGENCY MANAGEMENT         2   \n",
       "4   25  LAW DEPARTMENT                             1   \n",
       "5   25  LAW DEPARTMENT                             2   \n",
       "6   30  DEPARTMENT OF CITY PLANNING                1   \n",
       "\n",
       "                                    UA_Name                   PS_OTPS_Ind  \\\n",
       "0  PERSONAL SERVICES                                    Personal Services   \n",
       "1  OTHER THAN PERSONAL SERVICES              Other Than Personal Services   \n",
       "2  PERSONAL SERVICES                                    Personal Services   \n",
       "3  OTHER THAN PERSONAL SERVICES              Other Than Personal Services   \n",
       "4  PERSONAL SERVICES                                    Personal Services   \n",
       "5  OTHER THAN PERSONAL SERVICES              Other Than Personal Services   \n",
       "6  PERSONAL SERVICES                                    Personal Services   \n",
       "\n",
       "   FY_15_Exp  FY_16_Adopted  \n",
       "0   51391433       61723539  \n",
       "1   55363698       78528690  \n",
       "2   11601381        6246590  \n",
       "3   23436956        9780548  \n",
       "4  111055572      125701262  \n",
       "5   64534069       60879415  \n",
       "6   19223316       22966676  "
      ]
     },
     "execution_count": 50,
     "metadata": {},
     "output_type": "execute_result"
    }
   ],
   "source": [
    "#print the fist 8 lines out\n",
    "dhs.head(7)"
   ]
  },
  {
   "cell_type": "code",
   "execution_count": 7,
   "metadata": {},
   "outputs": [
    {
     "data": {
      "text/html": [
       "<div>\n",
       "<table border=\"1\" class=\"dataframe\">\n",
       "  <thead>\n",
       "    <tr style=\"text-align: right;\">\n",
       "      <th></th>\n",
       "      <th>Agy</th>\n",
       "      <th>Agy_Name</th>\n",
       "      <th>UA</th>\n",
       "      <th>UA_Name</th>\n",
       "      <th>PS_OTPS_Ind</th>\n",
       "      <th>FY_15_Exp</th>\n",
       "      <th>FY_16_Adopted</th>\n",
       "    </tr>\n",
       "  </thead>\n",
       "  <tbody>\n",
       "    <tr>\n",
       "      <th>266</th>\n",
       "      <td>866</td>\n",
       "      <td>DEPARTMENT OF CONSUMER AFFAIRS</td>\n",
       "      <td>2</td>\n",
       "      <td>LICENSING/ENFORCEMENT</td>\n",
       "      <td>Personal Services</td>\n",
       "      <td>12848238</td>\n",
       "      <td>16143660</td>\n",
       "    </tr>\n",
       "    <tr>\n",
       "      <th>267</th>\n",
       "      <td>866</td>\n",
       "      <td>DEPARTMENT OF CONSUMER AFFAIRS</td>\n",
       "      <td>4</td>\n",
       "      <td>ADJUDICATION</td>\n",
       "      <td>Personal Services</td>\n",
       "      <td>2450671</td>\n",
       "      <td>3349985</td>\n",
       "    </tr>\n",
       "    <tr>\n",
       "      <th>268</th>\n",
       "      <td>866</td>\n",
       "      <td>DEPARTMENT OF CONSUMER AFFAIRS</td>\n",
       "      <td>3</td>\n",
       "      <td>OTHER THAN PERSONAL SERVICE</td>\n",
       "      <td>Other Than Personal Services</td>\n",
       "      <td>15133071</td>\n",
       "      <td>14974494</td>\n",
       "    </tr>\n",
       "  </tbody>\n",
       "</table>\n",
       "</div>"
      ],
      "text/plain": [
       "     Agy                                  Agy_Name  UA  \\\n",
       "266  866  DEPARTMENT OF CONSUMER AFFAIRS             2   \n",
       "267  866  DEPARTMENT OF CONSUMER AFFAIRS             4   \n",
       "268  866  DEPARTMENT OF CONSUMER AFFAIRS             3   \n",
       "\n",
       "                                      UA_Name                   PS_OTPS_Ind  \\\n",
       "266  LICENSING/ENFORCEMENT                                Personal Services   \n",
       "267  ADJUDICATION                                         Personal Services   \n",
       "268  OTHER THAN PERSONAL SERVICE               Other Than Personal Services   \n",
       "\n",
       "     FY_15_Exp  FY_16_Adopted  \n",
       "266   12848238       16143660  \n",
       "267    2450671        3349985  \n",
       "268   15133071       14974494  "
      ]
     },
     "execution_count": 7,
     "metadata": {},
     "output_type": "execute_result"
    }
   ],
   "source": [
    "#print the last 3 lines out\n",
    "dhs.tail(3)"
   ]
  },
  {
   "cell_type": "code",
   "execution_count": 8,
   "metadata": {},
   "outputs": [
    {
     "data": {
      "text/plain": [
       "Index([u'Agy', u'Agy_Name', u'UA', u'UA_Name', u'PS_OTPS_Ind', u'FY_15_Exp',\n",
       "       u'FY_16_Adopted'],\n",
       "      dtype='object')"
      ]
     },
     "execution_count": 8,
     "metadata": {},
     "output_type": "execute_result"
    }
   ],
   "source": [
    "#look at the columns available, those are the variables\n",
    "dhs.columns"
   ]
  },
  {
   "cell_type": "code",
   "execution_count": 9,
   "metadata": {},
   "outputs": [
    {
     "data": {
      "text/plain": [
       "1883"
      ]
     },
     "execution_count": 9,
     "metadata": {},
     "output_type": "execute_result"
    }
   ],
   "source": [
    "#count how many rows, those are the data points\n",
    "dhs.size"
   ]
  },
  {
   "cell_type": "code",
   "execution_count": 10,
   "metadata": {},
   "outputs": [],
   "source": [
    "#select 2 columns only for plotting\n",
    "dhs_2c = dhs[['FY_15_Exp', 'FY_16_Adopted']]"
   ]
  },
  {
   "cell_type": "code",
   "execution_count": 11,
   "metadata": {},
   "outputs": [
    {
     "data": {
      "text/html": [
       "<div>\n",
       "<table border=\"1\" class=\"dataframe\">\n",
       "  <thead>\n",
       "    <tr style=\"text-align: right;\">\n",
       "      <th></th>\n",
       "      <th>FY_15_Exp</th>\n",
       "      <th>FY_16_Adopted</th>\n",
       "    </tr>\n",
       "  </thead>\n",
       "  <tbody>\n",
       "    <tr>\n",
       "      <th>0</th>\n",
       "      <td>51391433</td>\n",
       "      <td>61723539</td>\n",
       "    </tr>\n",
       "    <tr>\n",
       "      <th>1</th>\n",
       "      <td>55363698</td>\n",
       "      <td>78528690</td>\n",
       "    </tr>\n",
       "    <tr>\n",
       "      <th>2</th>\n",
       "      <td>11601381</td>\n",
       "      <td>6246590</td>\n",
       "    </tr>\n",
       "    <tr>\n",
       "      <th>3</th>\n",
       "      <td>23436956</td>\n",
       "      <td>9780548</td>\n",
       "    </tr>\n",
       "    <tr>\n",
       "      <th>4</th>\n",
       "      <td>111055572</td>\n",
       "      <td>125701262</td>\n",
       "    </tr>\n",
       "  </tbody>\n",
       "</table>\n",
       "</div>"
      ],
      "text/plain": [
       "   FY_15_Exp  FY_16_Adopted\n",
       "0   51391433       61723539\n",
       "1   55363698       78528690\n",
       "2   11601381        6246590\n",
       "3   23436956        9780548\n",
       "4  111055572      125701262"
      ]
     },
     "execution_count": 11,
     "metadata": {},
     "output_type": "execute_result"
    }
   ],
   "source": [
    "dhs_2c.head()"
   ]
  },
  {
   "cell_type": "markdown",
   "metadata": {},
   "source": [
    "## plot the data"
   ]
  },
  {
   "cell_type": "code",
   "execution_count": 12,
   "metadata": {},
   "outputs": [
    {
     "data": {
      "text/plain": [
       "<matplotlib.axes._subplots.AxesSubplot at 0x7f2a49ee4dd0>"
      ]
     },
     "execution_count": 12,
     "metadata": {},
     "output_type": "execute_result"
    }
   ],
   "source": [
    "dhs_2c.plot(x=\"FY_15_Exp\", y=\"FY_16_Adopted\")"
   ]
  },
  {
   "cell_type": "code",
   "execution_count": 13,
   "metadata": {},
   "outputs": [],
   "source": [
    "# wont show anything if i do not use the magic command to show plots in the notebook \n",
    "#(or use pl.show to pop up a window, but for the homework plots have to be embedded)"
   ]
  },
  {
   "cell_type": "code",
   "execution_count": 14,
   "metadata": {},
   "outputs": [
    {
     "name": "stdout",
     "output_type": "stream",
     "text": [
      "Populating the interactive namespace from numpy and matplotlib\n"
     ]
    }
   ],
   "source": [
    "%pylab inline"
   ]
  },
  {
   "cell_type": "code",
   "execution_count": 15,
   "metadata": {},
   "outputs": [
    {
     "data": {
      "image/png": "[encoded data removed]",
      "text/plain": [
       "<matplotlib.figure.Figure at 0x7f2a91340c90>"
      ]
     },
     "metadata": {},
     "output_type": "display_data"
    }
   ],
   "source": [
    "dhs_2c.plot(x=\"FY_15_Exp\", y=\"FY_16_Adopted\", kind='scatter');\n",
    "# every plot needs a caption that explains to the reader \n",
    "# 1) WHAT what the reader is loooking at and \n",
    "# 2) WHY why the reader is looking at it here in the analysis \n",
    "#      (in this case there is no why cause this plot is not part of an analysis)\n",
    "# 3) TAKE HOME what is the take home point for the plot in the analysis \n",
    "#      (also there is no take home point here cause we are not doind an analysis but you can point out interesting features)"
   ]
  },
  {
   "cell_type": "markdown",
   "metadata": {},
   "source": [
    "Figure 1: Fiscal year adopted performance indicator for 2016 is plotted against fiscal year expected for 2015. It can be noted that two variables display a nearly perfect corelation."
   ]
  },
  {
   "cell_type": "markdown",
   "metadata": {},
   "source": [
    "# solution 2: Use API and download a json file"
   ]
  },
  {
   "cell_type": "markdown",
   "metadata": {},
   "source": [
    "from the dataset export link now go to -> SODA API and the the endpoint"
   ]
  },
  {
   "cell_type": "code",
   "execution_count": 36,
   "metadata": {},
   "outputs": [],
   "source": [
    "url = \"https://data.cityofnewyork.us/resource/4qxi-jgbe.json\""
   ]
  },
  {
   "cell_type": "code",
   "execution_count": 37,
   "metadata": {},
   "outputs": [],
   "source": [
    "#use the appropriatepandas function to read in the json file\n",
    "df = pd.read_json(url)"
   ]
  },
  {
   "cell_type": "code",
   "execution_count": 38,
   "metadata": {},
   "outputs": [
    {
     "data": {
      "text/html": [
       "<div>\n",
       "<table border=\"1\" class=\"dataframe\">\n",
       "  <thead>\n",
       "    <tr style=\"text-align: right;\">\n",
       "      <th></th>\n",
       "      <th>agency_name</th>\n",
       "      <th>agency_start_date</th>\n",
       "      <th>base_salary</th>\n",
       "      <th>first_name</th>\n",
       "      <th>fiscal_year</th>\n",
       "      <th>last_name</th>\n",
       "      <th>leave_status_as_of_july_31</th>\n",
       "      <th>mid_init</th>\n",
       "      <th>ot_hours</th>\n",
       "      <th>pay_basis</th>\n",
       "      <th>regular_gross_paid</th>\n",
       "      <th>regular_hours</th>\n",
       "      <th>title_description</th>\n",
       "      <th>total_ot_paid</th>\n",
       "      <th>total_other_pay</th>\n",
       "      <th>work_location_borough</th>\n",
       "    </tr>\n",
       "  </thead>\n",
       "  <tbody>\n",
       "    <tr>\n",
       "      <th>0</th>\n",
       "      <td>DISTRICT ATTORNEY-MANHATTAN</td>\n",
       "      <td>2003-07-14T00:00:00.000</td>\n",
       "      <td>47678.0</td>\n",
       "      <td>RAHASHEEM</td>\n",
       "      <td>2016</td>\n",
       "      <td>ABA'AHMID</td>\n",
       "      <td>ACTIVE</td>\n",
       "      <td>E</td>\n",
       "      <td>2.25</td>\n",
       "      <td>per Annum</td>\n",
       "      <td>47166.03</td>\n",
       "      <td>1830.00</td>\n",
       "      <td>COMMUNITY ASSOCIATE                           ...</td>\n",
       "      <td>57.28</td>\n",
       "      <td>0.0</td>\n",
       "      <td>MANHATTAN</td>\n",
       "    </tr>\n",
       "    <tr>\n",
       "      <th>1</th>\n",
       "      <td>DISTRICT ATTORNEY-MANHATTAN</td>\n",
       "      <td>1995-06-12T00:00:00.000</td>\n",
       "      <td>119959.0</td>\n",
       "      <td>MARGARET</td>\n",
       "      <td>2016</td>\n",
       "      <td>ABENSUR</td>\n",
       "      <td>ACTIVE</td>\n",
       "      <td>NaN</td>\n",
       "      <td>0.00</td>\n",
       "      <td>per Annum</td>\n",
       "      <td>119042.50</td>\n",
       "      <td>1831.00</td>\n",
       "      <td>ADMINISTRATIVE ACCOUNTANT                     ...</td>\n",
       "      <td>0.00</td>\n",
       "      <td>0.0</td>\n",
       "      <td>MANHATTAN</td>\n",
       "    </tr>\n",
       "    <tr>\n",
       "      <th>2</th>\n",
       "      <td>DISTRICT ATTORNEY-MANHATTAN</td>\n",
       "      <td>2011-10-11T00:00:00.000</td>\n",
       "      <td>39966.0</td>\n",
       "      <td>ANDREA</td>\n",
       "      <td>2016</td>\n",
       "      <td>ABOUNAOUM</td>\n",
       "      <td>ON LEAVE</td>\n",
       "      <td>L</td>\n",
       "      <td>1.00</td>\n",
       "      <td>per Annum</td>\n",
       "      <td>27452.62</td>\n",
       "      <td>1181.68</td>\n",
       "      <td>COMMUNITY ASSOCIATE                           ...</td>\n",
       "      <td>21.34</td>\n",
       "      <td>33.0</td>\n",
       "      <td>MANHATTAN</td>\n",
       "    </tr>\n",
       "  </tbody>\n",
       "</table>\n",
       "</div>"
      ],
      "text/plain": [
       "                      agency_name        agency_start_date  base_salary  \\\n",
       "0  DISTRICT ATTORNEY-MANHATTAN     2003-07-14T00:00:00.000      47678.0   \n",
       "1  DISTRICT ATTORNEY-MANHATTAN     1995-06-12T00:00:00.000     119959.0   \n",
       "2  DISTRICT ATTORNEY-MANHATTAN     2011-10-11T00:00:00.000      39966.0   \n",
       "\n",
       "  first_name  fiscal_year  last_name leave_status_as_of_july_31 mid_init  \\\n",
       "0  RAHASHEEM         2016  ABA'AHMID                     ACTIVE        E   \n",
       "1   MARGARET         2016    ABENSUR                     ACTIVE      NaN   \n",
       "2     ANDREA         2016  ABOUNAOUM                   ON LEAVE        L   \n",
       "\n",
       "   ot_hours   pay_basis  regular_gross_paid  regular_hours  \\\n",
       "0      2.25   per Annum            47166.03        1830.00   \n",
       "1      0.00   per Annum           119042.50        1831.00   \n",
       "2      1.00   per Annum            27452.62        1181.68   \n",
       "\n",
       "                                   title_description  total_ot_paid  \\\n",
       "0  COMMUNITY ASSOCIATE                           ...          57.28   \n",
       "1  ADMINISTRATIVE ACCOUNTANT                     ...           0.00   \n",
       "2  COMMUNITY ASSOCIATE                           ...          21.34   \n",
       "\n",
       "   total_other_pay work_location_borough  \n",
       "0              0.0         MANHATTAN      \n",
       "1              0.0         MANHATTAN      \n",
       "2             33.0         MANHATTAN      "
      ]
     },
     "execution_count": 38,
     "metadata": {},
     "output_type": "execute_result"
    }
   ],
   "source": [
    "# print it out\n",
    "df.head(3)"
   ]
  },
  {
   "cell_type": "code",
   "execution_count": 39,
   "metadata": {},
   "outputs": [],
   "source": [
    "#now select a date and 2 variables\n",
    "dhs_3c = df[['agency_start_date', 'base_salary', 'regular_gross_paid']]"
   ]
  },
  {
   "cell_type": "markdown",
   "metadata": {},
   "source": [
    "for consistency with the data above, I will change the names of the columns (variables) to be the same as before. This way the plots will come out with the same labels and legends"
   ]
  },
  {
   "cell_type": "code",
   "execution_count": 40,
   "metadata": {},
   "outputs": [],
   "source": [
    "dhs_3c.rename(columns = {'agency_start_date':'Agency Start Date', \n",
    "               'base_salary':'Base Salary', \n",
    "               'regular_gross_paid': 'Regular Gross Paid'}, inplace=True)"
   ]
  },
  {
   "cell_type": "code",
   "execution_count": 23,
   "metadata": {},
   "outputs": [
    {
     "data": {
      "text/html": [
       "<div>\n",
       "<table border=\"1\" class=\"dataframe\">\n",
       "  <thead>\n",
       "    <tr style=\"text-align: right;\">\n",
       "      <th></th>\n",
       "      <th>Agency Start Date</th>\n",
       "      <th>Base Salary</th>\n",
       "      <th>Regular Gross Paid</th>\n",
       "    </tr>\n",
       "  </thead>\n",
       "  <tbody>\n",
       "    <tr>\n",
       "      <th>0</th>\n",
       "      <td>2003-07-14T00:00:00.000</td>\n",
       "      <td>47678.0</td>\n",
       "      <td>47166.03</td>\n",
       "    </tr>\n",
       "    <tr>\n",
       "      <th>1</th>\n",
       "      <td>1995-06-12T00:00:00.000</td>\n",
       "      <td>119959.0</td>\n",
       "      <td>119042.50</td>\n",
       "    </tr>\n",
       "    <tr>\n",
       "      <th>2</th>\n",
       "      <td>2011-10-11T00:00:00.000</td>\n",
       "      <td>39966.0</td>\n",
       "      <td>27452.62</td>\n",
       "    </tr>\n",
       "    <tr>\n",
       "      <th>3</th>\n",
       "      <td>2014-12-01T00:00:00.000</td>\n",
       "      <td>116000.0</td>\n",
       "      <td>115104.57</td>\n",
       "    </tr>\n",
       "    <tr>\n",
       "      <th>4</th>\n",
       "      <td>2015-05-21T00:00:00.000</td>\n",
       "      <td>1.0</td>\n",
       "      <td>3500.00</td>\n",
       "    </tr>\n",
       "  </tbody>\n",
       "</table>\n",
       "</div>"
      ],
      "text/plain": [
       "         Agency Start Date  Base Salary  Regular Gross Paid\n",
       "0  2003-07-14T00:00:00.000      47678.0            47166.03\n",
       "1  1995-06-12T00:00:00.000     119959.0           119042.50\n",
       "2  2011-10-11T00:00:00.000      39966.0            27452.62\n",
       "3  2014-12-01T00:00:00.000     116000.0           115104.57\n",
       "4  2015-05-21T00:00:00.000          1.0             3500.00"
      ]
     },
     "execution_count": 23,
     "metadata": {},
     "output_type": "execute_result"
    }
   ],
   "source": [
    "dhs_3c.head()"
   ]
  },
  {
   "cell_type": "code",
   "execution_count": 48,
   "metadata": {},
   "outputs": [
    {
     "data": {
      "image/png": "[encoded data removed]",
      "text/plain": [
       "<matplotlib.figure.Figure at 0x7f2a799bd110>"
      ]
     },
     "metadata": {},
     "output_type": "display_data"
    }
   ],
   "source": [
    "#as a default this plot wont have a y label, but all plots must have axis labels!\n",
    "ax = dhs_3c.plot(x='Agency Start Date', y='Base Salary');\n",
    "ax.set_ylabel(\"Base Salary\");"
   ]
  },
  {
   "cell_type": "markdown",
   "metadata": {},
   "source": [
    "i do not like the formatting of those dates so I will drom the timestamp overwriting the original column. \n",
    "for more info on baisc timestamp manipulation \n",
    "( no capation cause I am remaking this figure)"
   ]
  },
  {
   "cell_type": "code",
   "execution_count": 42,
   "metadata": {},
   "outputs": [
    {
     "name": "stderr",
     "output_type": "stream",
     "text": [
      "/usr/local/Anaconda3-5.0.0-Linux-x86_64/envs/PUI2016_Python2/lib/python2.7/site-packages/ipykernel/__main__.py:1: SettingWithCopyWarning: \n",
      "A value is trying to be set on a copy of a slice from a DataFrame.\n",
      "Try using .loc[row_indexer,col_indexer] = value instead\n",
      "\n",
      "See the caveats in the documentation: http://pandas.pydata.org/pandas-docs/stable/indexing.html#indexing-view-versus-copy\n",
      "  if __name__ == '__main__':\n"
     ]
    }
   ],
   "source": [
    "dhs_3c['Agency Start Date'] = dhs_3c['Agency Start Date'].apply(lambda x: pd.Timestamp(x))"
   ]
  },
  {
   "cell_type": "markdown",
   "metadata": {},
   "source": [
    "now that I am using timestamps (instead of strings as the data got read in form the json file) Pandas know to rotate the labels appropriately so I can drop rot=90"
   ]
  },
  {
   "cell_type": "code",
   "execution_count": 43,
   "metadata": {},
   "outputs": [
    {
     "data": {
      "image/png": "[encoded data removed]",
      "text/plain": [
       "<matplotlib.figure.Figure at 0x7f2a4790f050>"
      ]
     },
     "metadata": {},
     "output_type": "display_data"
    }
   ],
   "source": [
    "ax = dhs_3c.plot(x='Agency Start Date', y='Base Salary')\n",
    "ax.set_ylabel(\"Avg Base Salary\");"
   ]
  },
  {
   "cell_type": "markdown",
   "metadata": {},
   "source": [
    "Figure 2: This figure shows how the base salray varies with the start date of the agency. For most it looks like a random noise signal but there is a slight negative trend as time increases. Furthermore, the frequency of the signal increases showing that more agencies came into being in the later times. Finaly, it can also be observed that amplitude (which can be interpretted as variance in this case) decreases till 2012 and starts to increase again after that."
   ]
  },
  {
   "cell_type": "code",
   "execution_count": 47,
   "metadata": {},
   "outputs": [
    {
     "data": {
      "image/png": "[encoded data removed]",
      "text/plain": [
       "<matplotlib.figure.Figure at 0x7f2a7873a210>"
      ]
     },
     "metadata": {},
     "output_type": "display_data"
    }
   ],
   "source": [
    "#plot the other columns\n",
    "ax = dhs_3c.plot(x='Agency Start Date', y='Regular Gross Paid')\n",
    "ax.set_ylabel(\"Regular Gross Paid\");"
   ]
  },
  {
   "cell_type": "markdown",
   "metadata": {},
   "source": [
    "Figure 3: Figure shows the variation of Regular Gross Paid with the Agency start time. There is a slight decreasing trend and variance also tends to decease till 2012 before increasing again. More agencies are started every year with increasing year. The trend is very similar to the trend of base salary!"
   ]
  },
  {
   "cell_type": "code",
   "execution_count": 49,
   "metadata": {},
   "outputs": [
    {
     "data": {
      "text/html": [
       "<div>\n",
       "<table border=\"1\" class=\"dataframe\">\n",
       "  <thead>\n",
       "    <tr style=\"text-align: right;\">\n",
       "      <th></th>\n",
       "      <th>Base Salary</th>\n",
       "      <th>Regular Gross Paid</th>\n",
       "    </tr>\n",
       "  </thead>\n",
       "  <tbody>\n",
       "    <tr>\n",
       "      <th>Base Salary</th>\n",
       "      <td>1.000000</td>\n",
       "      <td>0.905104</td>\n",
       "    </tr>\n",
       "    <tr>\n",
       "      <th>Regular Gross Paid</th>\n",
       "      <td>0.905104</td>\n",
       "      <td>1.000000</td>\n",
       "    </tr>\n",
       "  </tbody>\n",
       "</table>\n",
       "</div>"
      ],
      "text/plain": [
       "                    Base Salary  Regular Gross Paid\n",
       "Base Salary            1.000000            0.905104\n",
       "Regular Gross Paid     0.905104            1.000000"
      ]
     },
     "execution_count": 49,
     "metadata": {},
     "output_type": "execute_result"
    }
   ],
   "source": [
    "dhs_3c.corr()"
   ]
  },
  {
   "cell_type": "markdown",
   "metadata": {},
   "source": [
    "As suspected Base Salary has strong correlation with Regular Gross Paid"
   ]
  }
 ],
 "metadata": {
  "kernelspec": {
   "display_name": "Python 3",
   "language": "python",
   "name": "python3"
  },
  "language_info": {
   "codemirror_mode": {
    "name": "ipython",
    "version": 3
   },
   "file_extension": ".py",
   "mimetype": "text/x-python",
   "name": "python",
   "nbconvert_exporter": "python",
   "pygments_lexer": "ipython3",
   "version": "3.6.6"
  }
 },
 "nbformat": 4,
 "nbformat_minor": 2
}
